{
 "cells": [
  {
   "cell_type": "markdown",
   "metadata": {
    "id": "8ZvdwtZdbwhr"
   },
   "source": [
    "# Pangolin Variant Scoring"
   ]
  },
  {
   "cell_type": "code",
   "execution_count": 1,
   "metadata": {},
   "outputs": [],
   "source": [
    "import pandas as pd\n",
    "import torch\n",
    "from io import StringIO\n",
    "\n",
    "from pangolin import score"
   ]
  },
  {
   "cell_type": "code",
   "execution_count": 2,
   "metadata": {},
   "outputs": [],
   "source": [
    "pd.options.display.max_columns  = None\n",
    "pd.options.display.max_rows     = None\n",
    "pd.options.display.max_colwidth = 1000"
   ]
  },
  {
   "cell_type": "raw",
   "metadata": {
    "id": "fbyc3ygj9Fpr"
   },
   "source": [
    "# GRCh37 files, run this download cell once\n",
    "!wget ftp://ftp.ebi.ac.uk/pub/databases/gencode/Gencode_human/release_30/GRCh37_mapping/GRCh37.primary_assembly.genome.fa.gz\n",
    "!wget https://www.dropbox.com/sh/6zo0aegoalvgd9f/AAA9Q90Pi1UqSzX99R_NM803a/gencode.v38lift37.annotation.db"
   ]
  },
  {
   "cell_type": "code",
   "execution_count": 3,
   "metadata": {},
   "outputs": [
    {
     "name": "stdout",
     "output_type": "stream",
     "text": [
      "Using GPU to compute.\n"
     ]
    }
   ],
   "source": [
    "ps = score.PangolinScore()"
   ]
  },
  {
   "cell_type": "markdown",
   "metadata": {},
   "source": [
    "#### 1. Set File Inputs and Output "
   ]
  },
  {
   "cell_type": "code",
   "execution_count": 4,
   "metadata": {},
   "outputs": [],
   "source": [
    "ps.fp_model_weight_dir = 'pangolin/models/'\n",
    "ps.variant_file = \"examples/brca.vcf\"\n",
    "ps.reference_file = \"GRCh37.primary_assembly.genome.fa.gz\"\n",
    "ps.annotation_file = \"gencode.v38lift37.annotation.db\"\n",
    "ps.output_file = \"brca_test_pangolin_output\""
   ]
  },
  {
   "cell_type": "markdown",
   "metadata": {},
   "source": [
    "#### 2. load pretrained weights and biases"
   ]
  },
  {
   "cell_type": "code",
   "execution_count": 5,
   "metadata": {},
   "outputs": [],
   "source": [
    "ps.load_weights()"
   ]
  },
  {
   "cell_type": "markdown",
   "metadata": {},
   "source": [
    "#### 3. process data files using model and weights and biases  "
   ]
  },
  {
   "cell_type": "code",
   "execution_count": 6,
   "metadata": {},
   "outputs": [
    {
     "name": "stderr",
     "output_type": "stream",
     "text": [
      "STAGE:2023-04-14 15:42:55 18755:18755 ActivityProfilerController.cpp:294] Completed Stage: Warm Up\n",
      "STAGE:2023-04-14 15:44:04 18755:18755 ActivityProfilerController.cpp:300] Completed Stage: Collection\n"
     ]
    }
   ],
   "source": [
    "activities=[torch.profiler.ProfilerActivity.CPU,\n",
    "            torch.profiler.ProfilerActivity.CUDA\n",
    "            ]\n",
    "\n",
    "with torch.profiler.profile(activities=activities) as torch_profiler:\n",
    "    ps.process()\n",
    "    \n",
    "torch_timing_data = torch_profiler.key_averages()"
   ]
  },
  {
   "cell_type": "raw",
   "metadata": {},
   "source": [
    "print(torch_timing_data.table(sort_by=\"self_cuda_time_total\", row_limit=-1))"
   ]
  },
  {
   "cell_type": "code",
   "execution_count": null,
   "metadata": {},
   "outputs": [],
   "source": []
  }
 ],
 "metadata": {
  "accelerator": "GPU",
  "colab": {
   "collapsed_sections": [],
   "name": "PangolinColab.ipynb",
   "provenance": []
  },
  "environment": {
   "kernel": "python3",
   "name": "pytorch-gpu.1-13.m106",
   "type": "gcloud",
   "uri": "gcr.io/deeplearning-platform-release/pytorch-gpu.1-13:m106"
  },
  "kernelspec": {
   "display_name": "Python 3",
   "language": "python",
   "name": "python3"
  },
  "language_info": {
   "codemirror_mode": {
    "name": "ipython",
    "version": 3
   },
   "file_extension": ".py",
   "mimetype": "text/x-python",
   "name": "python",
   "nbconvert_exporter": "python",
   "pygments_lexer": "ipython3",
   "version": "3.7.12"
  }
 },
 "nbformat": 4,
 "nbformat_minor": 4
}
